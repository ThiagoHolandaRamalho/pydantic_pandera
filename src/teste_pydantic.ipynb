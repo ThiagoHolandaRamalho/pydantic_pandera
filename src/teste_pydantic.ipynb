{
 "cells": [
  {
   "cell_type": "code",
   "execution_count": 1,
   "metadata": {},
   "outputs": [],
   "source": [
    "\n",
    "import pandas as pd\n",
    "from datetime import datetime\n",
    "from schema_pandera import SchemaCorpApolice, SchemaDimCorpApolice  # Substitua pelo caminho correto do seu módulo\n",
    "import pandera as pa\n"
   ]
  },
  {
   "cell_type": "code",
   "execution_count": 29,
   "metadata": {},
   "outputs": [],
   "source": [
    "@pa.check_output(SchemaCorpApolice,lazy=True)\n",
    "def retorno_df() -> pd.DataFrame:\n",
    "    df = pd.DataFrame({\n",
    "        \"cd_apolice\": [1, '003'],\n",
    "        \"nm_produto\": [\"Produto A\", \"Produto B\"],\n",
    "        \"quantidade\": [10, 20.999],\n",
    "        \"valor\": [1000.0, 1500.0],\n",
    "        \"dt_emissao\": [datetime(2024, 1, 1), datetime(2024, 2, 1)],\n",
    "        \"dv_documento_oficial\": [True, False]})\n",
    "    return df"
   ]
  },
  {
   "cell_type": "code",
   "execution_count": null,
   "metadata": {},
   "outputs": [],
   "source": [
    "aa = retorno_df()\n",
    "#aa.drop('valor',axis=1,inplace=True)"
   ]
  },
  {
   "cell_type": "code",
   "execution_count": null,
   "metadata": {},
   "outputs": [],
   "source": []
  },
  {
   "cell_type": "code",
   "execution_count": null,
   "metadata": {},
   "outputs": [],
   "source": [
    "@pa.check_output(SchemaDimCorpApolice,lazy=True)\n",
    "@pa.check_input(SchemaCorpApolice,lazy=True)\n",
    "def retorno_kpi(df:pd.DataFrame) -> pd.DataFrame:\n",
    "    df['nm_linha_negocio'] = 'Banca'\n",
    "    df['nm_gestor'] = 'Thiago'\n",
    "    df['cd_gestor'] = '10'\n",
    "    return df"
   ]
  },
  {
   "cell_type": "code",
   "execution_count": 39,
   "metadata": {},
   "outputs": [
    {
     "data": {
      "text/html": [
       "<div>\n",
       "<style scoped>\n",
       "    .dataframe tbody tr th:only-of-type {\n",
       "        vertical-align: middle;\n",
       "    }\n",
       "\n",
       "    .dataframe tbody tr th {\n",
       "        vertical-align: top;\n",
       "    }\n",
       "\n",
       "    .dataframe thead th {\n",
       "        text-align: right;\n",
       "    }\n",
       "</style>\n",
       "<table border=\"1\" class=\"dataframe\">\n",
       "  <thead>\n",
       "    <tr style=\"text-align: right;\">\n",
       "      <th></th>\n",
       "      <th>cd_apolice</th>\n",
       "      <th>nm_produto</th>\n",
       "      <th>quantidade</th>\n",
       "      <th>valor</th>\n",
       "      <th>dt_emissao</th>\n",
       "      <th>dv_documento_oficial</th>\n",
       "      <th>nm_linha_negocio</th>\n",
       "      <th>nm_gestor</th>\n",
       "      <th>cd_gestor</th>\n",
       "    </tr>\n",
       "  </thead>\n",
       "  <tbody>\n",
       "    <tr>\n",
       "      <th>0</th>\n",
       "      <td>1</td>\n",
       "      <td>Produto A</td>\n",
       "      <td>10</td>\n",
       "      <td>1000.0</td>\n",
       "      <td>2024-01-01</td>\n",
       "      <td>True</td>\n",
       "      <td>Banca</td>\n",
       "      <td>Thiago</td>\n",
       "      <td>10</td>\n",
       "    </tr>\n",
       "    <tr>\n",
       "      <th>1</th>\n",
       "      <td>3</td>\n",
       "      <td>Produto B</td>\n",
       "      <td>20</td>\n",
       "      <td>1500.0</td>\n",
       "      <td>2024-02-01</td>\n",
       "      <td>False</td>\n",
       "      <td>Banca</td>\n",
       "      <td>Thiago</td>\n",
       "      <td>10</td>\n",
       "    </tr>\n",
       "  </tbody>\n",
       "</table>\n",
       "</div>"
      ],
      "text/plain": [
       "   cd_apolice nm_produto  quantidade   valor dt_emissao  dv_documento_oficial  \\\n",
       "0           1  Produto A          10  1000.0 2024-01-01                  True   \n",
       "1           3  Produto B          20  1500.0 2024-02-01                 False   \n",
       "\n",
       "  nm_linha_negocio nm_gestor  cd_gestor  \n",
       "0            Banca    Thiago         10  \n",
       "1            Banca    Thiago         10  "
      ]
     },
     "execution_count": 39,
     "metadata": {},
     "output_type": "execute_result"
    }
   ],
   "source": [
    "retorno_kpi(aa)"
   ]
  },
  {
   "cell_type": "code",
   "execution_count": null,
   "metadata": {},
   "outputs": [],
   "source": []
  },
  {
   "cell_type": "code",
   "execution_count": null,
   "metadata": {},
   "outputs": [],
   "source": []
  }
 ],
 "metadata": {
  "kernelspec": {
   "display_name": ".venv",
   "language": "python",
   "name": "python3"
  },
  "language_info": {
   "codemirror_mode": {
    "name": "ipython",
    "version": 3
   },
   "file_extension": ".py",
   "mimetype": "text/x-python",
   "name": "python",
   "nbconvert_exporter": "python",
   "pygments_lexer": "ipython3",
   "version": "3.12.1"
  }
 },
 "nbformat": 4,
 "nbformat_minor": 2
}
